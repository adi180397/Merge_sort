{
  "nbformat": 4,
  "nbformat_minor": 0,
  "metadata": {
    "colab": {
      "provenance": [],
      "authorship_tag": "ABX9TyOljnkBgeyL3etIyX3Qjk18",
      "include_colab_link": true
    },
    "kernelspec": {
      "name": "python3",
      "display_name": "Python 3"
    },
    "language_info": {
      "name": "python"
    }
  },
  "cells": [
    {
      "cell_type": "markdown",
      "metadata": {
        "id": "view-in-github",
        "colab_type": "text"
      },
      "source": [
        "<a href=\"https://colab.research.google.com/github/adi180397/Merge_sort/blob/main/Merge_Sort.ipynb\" target=\"_parent\"><img src=\"https://colab.research.google.com/assets/colab-badge.svg\" alt=\"Open In Colab\"/></a>"
      ]
    },
    {
      "cell_type": "code",
      "source": [
        "def Mergeprocedure(arr,i,mid,j):\n",
        "  n1=mid-i+1\n",
        "  n2=j-mid\n",
        "  leftarr=[0]*n1  # it initiallizes the array of size n1 and n2 with the element 0.\n",
        "  rightarr=[0]*n2\n",
        "  for m in range(n1):\n",
        "    leftarr[m]=arr[i+m]\n",
        "  for n in range(n2):\n",
        "    rightarr[n]=arr[mid+1+n]\n",
        "\n",
        "  p=0\n",
        "  q=0\n",
        "  k=i\n",
        "  while p<n1 and q<n2:   # It compare both side sorted array to get final sorted array\n",
        "    if leftarr[p]<=rightarr[q]:\n",
        "      arr[k]=leftarr[p]\n",
        "      p+=1\n",
        "    else:\n",
        "      arr[k]=rightarr[q]\n",
        "      q+=1\n",
        "    k+=1\n",
        "  while p<n1:\n",
        "    arr[k]=leftarr[p]\n",
        "    p+=1\n",
        "    k+=1\n",
        "  while q<n2:\n",
        "    arr[k]=rightarr[q]\n",
        "    q+=1\n",
        "    k+=1\n",
        "\n",
        "# Merge sort happens in 3 steps:\n",
        "# 1. it divides the array into left and right array just like Divide and Conquer technique\n",
        "# 2. Conquer\n",
        "# 3. Combine where we use Mergeprocedure to combine the return value.\n",
        "def Mergesort(arr,i,j):\n",
        "\n",
        "  if i<j:\n",
        "\n",
        "    mid=i+(j-i)//2  # Divide\n",
        "    Mergesort(arr,i,mid) #Conquer\n",
        "    Mergesort(arr,mid+1,j)\n",
        "    Mergeprocedure(arr,i,mid,j) # Combine\n",
        "\n",
        "  return arr\n",
        "# Driver code\n",
        "arr=[23,45,42,21,12,33,26]\n",
        "i=0\n",
        "j=len(arr)-1\n",
        "result=Mergesort(arr,i,j)\n",
        "print(result)"
      ],
      "metadata": {
        "colab": {
          "base_uri": "https://localhost:8080/"
        },
        "id": "I7H0NlySTiJY",
        "outputId": "be82cd1b-a1f6-44a9-898f-1656a09fd9c2"
      },
      "execution_count": 2,
      "outputs": [
        {
          "output_type": "stream",
          "name": "stdout",
          "text": [
            "[12, 21, 23, 26, 33, 42, 45]\n"
          ]
        }
      ]
    }
  ]
}